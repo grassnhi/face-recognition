{
  "nbformat": 4,
  "nbformat_minor": 0,
  "metadata": {
    "colab": {
      "provenance": []
    },
    "kernelspec": {
      "name": "python3",
      "display_name": "Python 3"
    },
    "language_info": {
      "name": "python"
    }
  },
  "cells": [
    {
      "cell_type": "code",
      "source": [
        "import ssl\n",
        "from sklearn.datasets import fetch_lfw_people\n",
        "from sklearn.model_selection import train_test_split\n",
        "from keras.models import Sequential\n",
        "from keras.layers import Conv2D, MaxPool2D,BatchNormalization,Dense, Flatten,Dropout\n",
        "from tensorflow.python.keras.utils.np_utils import to_categorical"
      ],
      "metadata": {
        "id": "bWsGPgg9YP-S"
      },
      "execution_count": null,
      "outputs": []
    },
    {
      "cell_type": "code",
      "source": [
        "ssl._create_default_https_context = ssl._create_unverified_context\n",
        "people = fetch_lfw_people(min_faces_per_person=70)\n",
        "images= people.images\n",
        "labels=people.target\n",
        "n=7\n",
        "x_train, x_test, y_train, y_test = train_test_split(images, labels, test_size=0.20)\n",
        "\n",
        "x_train = x_train.astype('float32')\n",
        "x_test = x_test.astype('float32')\n",
        "x_train /= 255\n",
        "x_test /= 255\n",
        "\n",
        "img_x, img_y = 62,47\n",
        "x_train = x_train.reshape(x_train.shape[0], img_x, img_y, 1)\n",
        "x_test = x_test.reshape(x_test.shape[0], img_x, img_y, 1)"
      ],
      "metadata": {
        "id": "RHg5XMMjYVTO"
      },
      "execution_count": null,
      "outputs": []
    },
    {
      "cell_type": "code",
      "source": [
        "model = Sequential()\n",
        "model.add(Conv2D(32, kernel_size=(5,5), activation='relu',\n",
        "                 kernel_initializer='uniform',input_shape=(img_x, img_y, 1)))\n",
        "model.add(BatchNormalization())\n",
        "model.add(MaxPool2D(pool_size=(2,2), strides=(1,1)))\n",
        "model.add(Conv2D(64, kernel_size=(5,5), activation='relu'\n",
        "                 ,kernel_initializer='uniform'))\n",
        "model.add(BatchNormalization())\n",
        "model.add(MaxPool2D(pool_size=(2,2), strides=(1,1)))\n",
        "model.add(Dropout(0.5))\n",
        "model.add(Conv2D(64, kernel_size=(5,5), activation='relu'\n",
        "                 ,kernel_initializer='uniform'))\n",
        "model.add(BatchNormalization())\n",
        "model.add(MaxPool2D(pool_size=(2,2), strides=(1,1)))\n",
        "model.add(Dropout(0.5))\n",
        "model.add(Conv2D(64, kernel_size=(5,5), activation='relu'\n",
        "                 ,kernel_initializer='uniform'))\n",
        "model.add(BatchNormalization())\n",
        "model.add(MaxPool2D(pool_size=(2,2), strides=(1,1)))\n",
        "model.add(Dropout(0.5))\n",
        "model.add(Flatten())\n",
        "model.add(Dense(120, activation='relu',kernel_initializer='uniform'))\n",
        "model.add(Dense(84, activation='relu',kernel_initializer='uniform'))\n",
        "model.add(Dense(n, activation='softmax'))\n",
        "\n",
        "model.compile(optimizer='Adam',\n",
        "              loss='categorical_crossentropy',\n",
        "              metrics=['accuracy'])"
      ],
      "metadata": {
        "id": "Ry98mJhtYz5K"
      },
      "execution_count": null,
      "outputs": []
    },
    {
      "cell_type": "code",
      "source": [
        "y_train = to_categorical(y_train,n)\n",
        "y_test = to_categorical(y_test,n)"
      ],
      "metadata": {
        "id": "6toFEiZ1Y4E2"
      },
      "execution_count": null,
      "outputs": []
    },
    {
      "cell_type": "code",
      "source": [
        "history = model.fit(x_train, y_train,validation_split=0.20, validation_data=None, shuffle=True, batch_size=128, epochs=150)\n",
        "score = model.evaluate(x_train, y_train)\n",
        "print('training accuracy', score[1]*100,\"%\")\n",
        "score = model.evaluate(x_test, y_test)\n",
        "print('testing accuracy', score[1]*100,\"%\")"
      ],
      "metadata": {
        "id": "xHIboCHUY7L6",
        "colab": {
          "base_uri": "https://localhost:8080/"
        },
        "outputId": "5b86be18-09d6-41d5-adff-0e3483951e55"
      },
      "execution_count": null,
      "outputs": [
        {
          "output_type": "stream",
          "name": "stdout",
          "text": [
            "Epoch 1/150\n",
            "7/7 [==============================] - 78s 10s/step - loss: 5.1780 - accuracy: 0.2427 - val_loss: 2.4944 - val_accuracy: 0.4563\n",
            "Epoch 2/150\n",
            "7/7 [==============================] - 73s 10s/step - loss: 1.9077 - accuracy: 0.4041 - val_loss: 8.8323 - val_accuracy: 0.4563\n",
            "Epoch 3/150\n",
            "7/7 [==============================] - 71s 10s/step - loss: 1.5098 - accuracy: 0.4927 - val_loss: 15.2337 - val_accuracy: 0.4563\n",
            "Epoch 4/150\n",
            "7/7 [==============================] - 71s 10s/step - loss: 1.1938 - accuracy: 0.5510 - val_loss: 18.9509 - val_accuracy: 0.4563\n",
            "Epoch 5/150\n",
            "7/7 [==============================] - 72s 10s/step - loss: 1.0863 - accuracy: 0.6214 - val_loss: 21.7881 - val_accuracy: 0.4563\n",
            "Epoch 6/150\n",
            "7/7 [==============================] - 72s 10s/step - loss: 0.8922 - accuracy: 0.6954 - val_loss: 23.7877 - val_accuracy: 0.4563\n",
            "Epoch 7/150\n",
            "7/7 [==============================] - 76s 11s/step - loss: 0.7534 - accuracy: 0.7451 - val_loss: 24.7518 - val_accuracy: 0.4563\n",
            "Epoch 8/150\n",
            "7/7 [==============================] - 72s 10s/step - loss: 0.6568 - accuracy: 0.7779 - val_loss: 25.6084 - val_accuracy: 0.4563\n",
            "Epoch 9/150\n",
            "7/7 [==============================] - 69s 10s/step - loss: 0.5647 - accuracy: 0.7985 - val_loss: 26.6714 - val_accuracy: 0.4563\n",
            "Epoch 10/150\n",
            "7/7 [==============================] - 72s 10s/step - loss: 0.4225 - accuracy: 0.8532 - val_loss: 25.8813 - val_accuracy: 0.4563\n",
            "Epoch 11/150\n",
            "7/7 [==============================] - 71s 10s/step - loss: 0.3633 - accuracy: 0.8859 - val_loss: 23.6523 - val_accuracy: 0.4563\n",
            "Epoch 12/150\n",
            "7/7 [==============================] - 71s 10s/step - loss: 0.3060 - accuracy: 0.9041 - val_loss: 22.8794 - val_accuracy: 0.4563\n",
            "Epoch 13/150\n",
            "7/7 [==============================] - 68s 10s/step - loss: 0.2682 - accuracy: 0.9175 - val_loss: 23.3257 - val_accuracy: 0.4563\n",
            "Epoch 14/150\n",
            "7/7 [==============================] - 72s 10s/step - loss: 0.2500 - accuracy: 0.9272 - val_loss: 23.4421 - val_accuracy: 0.4563\n",
            "Epoch 15/150\n",
            "7/7 [==============================] - 73s 10s/step - loss: 0.2051 - accuracy: 0.9393 - val_loss: 22.2893 - val_accuracy: 0.4563\n",
            "Epoch 16/150\n",
            "7/7 [==============================] - 75s 11s/step - loss: 0.1620 - accuracy: 0.9466 - val_loss: 21.7158 - val_accuracy: 0.4563\n",
            "Epoch 17/150\n",
            "7/7 [==============================] - 73s 10s/step - loss: 0.1221 - accuracy: 0.9624 - val_loss: 21.2447 - val_accuracy: 0.4563\n",
            "Epoch 18/150\n",
            "7/7 [==============================] - 72s 10s/step - loss: 0.1042 - accuracy: 0.9660 - val_loss: 19.9516 - val_accuracy: 0.4563\n",
            "Epoch 19/150\n",
            "7/7 [==============================] - 73s 10s/step - loss: 0.1226 - accuracy: 0.9648 - val_loss: 18.9363 - val_accuracy: 0.4563\n",
            "Epoch 20/150\n",
            "7/7 [==============================] - 71s 10s/step - loss: 0.1055 - accuracy: 0.9684 - val_loss: 17.8837 - val_accuracy: 0.4563\n",
            "Epoch 21/150\n",
            "7/7 [==============================] - 73s 10s/step - loss: 0.0755 - accuracy: 0.9745 - val_loss: 16.6524 - val_accuracy: 0.4563\n",
            "Epoch 22/150\n",
            "7/7 [==============================] - 71s 10s/step - loss: 0.0558 - accuracy: 0.9842 - val_loss: 15.6063 - val_accuracy: 0.4563\n",
            "Epoch 23/150\n",
            "7/7 [==============================] - 73s 10s/step - loss: 0.0501 - accuracy: 0.9915 - val_loss: 14.9716 - val_accuracy: 0.4563\n",
            "Epoch 24/150\n",
            "7/7 [==============================] - 75s 11s/step - loss: 0.0415 - accuracy: 0.9903 - val_loss: 13.9469 - val_accuracy: 0.4563\n",
            "Epoch 25/150\n",
            "7/7 [==============================] - 73s 10s/step - loss: 0.0285 - accuracy: 0.9964 - val_loss: 13.2131 - val_accuracy: 0.4563\n",
            "Epoch 26/150\n",
            "7/7 [==============================] - 73s 10s/step - loss: 0.0254 - accuracy: 0.9939 - val_loss: 12.4464 - val_accuracy: 0.4563\n",
            "Epoch 27/150\n",
            "7/7 [==============================] - 73s 10s/step - loss: 0.0243 - accuracy: 0.9951 - val_loss: 12.3536 - val_accuracy: 0.4563\n",
            "Epoch 28/150\n",
            "7/7 [==============================] - 73s 10s/step - loss: 0.0311 - accuracy: 0.9915 - val_loss: 12.7959 - val_accuracy: 0.4563\n",
            "Epoch 29/150\n",
            "7/7 [==============================] - 73s 10s/step - loss: 0.0245 - accuracy: 0.9939 - val_loss: 12.4530 - val_accuracy: 0.4563\n",
            "Epoch 30/150\n",
            "7/7 [==============================] - 71s 10s/step - loss: 0.0423 - accuracy: 0.9854 - val_loss: 11.0497 - val_accuracy: 0.4563\n",
            "Epoch 31/150\n",
            "7/7 [==============================] - 71s 10s/step - loss: 0.0335 - accuracy: 0.9927 - val_loss: 9.5203 - val_accuracy: 0.4563\n",
            "Epoch 32/150\n",
            "7/7 [==============================] - 71s 10s/step - loss: 0.0257 - accuracy: 0.9951 - val_loss: 8.1805 - val_accuracy: 0.4563\n",
            "Epoch 33/150\n",
            "7/7 [==============================] - 71s 10s/step - loss: 0.0181 - accuracy: 0.9964 - val_loss: 7.7590 - val_accuracy: 0.4563\n",
            "Epoch 34/150\n",
            "7/7 [==============================] - 72s 10s/step - loss: 0.0121 - accuracy: 0.9988 - val_loss: 6.7108 - val_accuracy: 0.4563\n",
            "Epoch 35/150\n",
            "7/7 [==============================] - 71s 10s/step - loss: 0.0128 - accuracy: 0.9976 - val_loss: 6.1833 - val_accuracy: 0.4563\n",
            "Epoch 36/150\n",
            "7/7 [==============================] - 78s 11s/step - loss: 0.0092 - accuracy: 0.9988 - val_loss: 5.9340 - val_accuracy: 0.4563\n",
            "Epoch 37/150\n",
            "7/7 [==============================] - 73s 10s/step - loss: 0.0077 - accuracy: 1.0000 - val_loss: 5.7635 - val_accuracy: 0.4563\n",
            "Epoch 38/150\n",
            "7/7 [==============================] - 73s 10s/step - loss: 0.0100 - accuracy: 0.9976 - val_loss: 5.8974 - val_accuracy: 0.0728\n",
            "Epoch 39/150\n",
            "7/7 [==============================] - 73s 10s/step - loss: 0.0067 - accuracy: 1.0000 - val_loss: 5.9929 - val_accuracy: 0.0728\n",
            "Epoch 40/150\n",
            "7/7 [==============================] - 73s 10s/step - loss: 0.0054 - accuracy: 1.0000 - val_loss: 7.1026 - val_accuracy: 0.1553\n",
            "Epoch 41/150\n",
            "7/7 [==============================] - 73s 10s/step - loss: 0.0057 - accuracy: 1.0000 - val_loss: 8.7059 - val_accuracy: 0.1553\n",
            "Epoch 42/150\n",
            "7/7 [==============================] - 72s 10s/step - loss: 0.0066 - accuracy: 0.9976 - val_loss: 8.9760 - val_accuracy: 0.1553\n",
            "Epoch 43/150\n",
            "7/7 [==============================] - 73s 10s/step - loss: 0.0061 - accuracy: 0.9988 - val_loss: 10.1681 - val_accuracy: 0.1553\n",
            "Epoch 44/150\n",
            "7/7 [==============================] - 72s 10s/step - loss: 0.0046 - accuracy: 1.0000 - val_loss: 10.9700 - val_accuracy: 0.1553\n",
            "Epoch 45/150\n",
            "7/7 [==============================] - 76s 11s/step - loss: 0.0053 - accuracy: 1.0000 - val_loss: 12.5602 - val_accuracy: 0.1553\n",
            "Epoch 46/150\n",
            "7/7 [==============================] - 73s 10s/step - loss: 0.0081 - accuracy: 0.9964 - val_loss: 13.1105 - val_accuracy: 0.1553\n",
            "Epoch 47/150\n",
            "7/7 [==============================] - 73s 10s/step - loss: 0.0057 - accuracy: 0.9988 - val_loss: 11.5968 - val_accuracy: 0.1553\n",
            "Epoch 48/150\n",
            "7/7 [==============================] - 73s 10s/step - loss: 0.0024 - accuracy: 1.0000 - val_loss: 10.5699 - val_accuracy: 0.0728\n",
            "Epoch 49/150\n",
            "7/7 [==============================] - 73s 10s/step - loss: 0.0041 - accuracy: 0.9988 - val_loss: 10.9609 - val_accuracy: 0.0728\n",
            "Epoch 50/150\n",
            "7/7 [==============================] - 73s 10s/step - loss: 0.0033 - accuracy: 1.0000 - val_loss: 12.0683 - val_accuracy: 0.0922\n",
            "Epoch 51/150\n",
            "7/7 [==============================] - 71s 10s/step - loss: 0.0044 - accuracy: 0.9976 - val_loss: 11.8708 - val_accuracy: 0.0777\n",
            "Epoch 52/150\n",
            "7/7 [==============================] - 77s 11s/step - loss: 0.0042 - accuracy: 0.9988 - val_loss: 11.6580 - val_accuracy: 0.1553\n",
            "Epoch 53/150\n",
            "7/7 [==============================] - 73s 10s/step - loss: 0.0034 - accuracy: 1.0000 - val_loss: 11.8127 - val_accuracy: 0.1553\n",
            "Epoch 54/150\n",
            "7/7 [==============================] - 73s 10s/step - loss: 0.0052 - accuracy: 0.9988 - val_loss: 13.2148 - val_accuracy: 0.1553\n",
            "Epoch 55/150\n",
            "7/7 [==============================] - 73s 10s/step - loss: 0.0043 - accuracy: 0.9988 - val_loss: 14.2304 - val_accuracy: 0.1553\n",
            "Epoch 56/150\n",
            "7/7 [==============================] - 73s 10s/step - loss: 0.0048 - accuracy: 0.9988 - val_loss: 13.2544 - val_accuracy: 0.1553\n",
            "Epoch 57/150\n",
            "7/7 [==============================] - 73s 10s/step - loss: 0.0049 - accuracy: 0.9976 - val_loss: 13.1983 - val_accuracy: 0.1553\n",
            "Epoch 58/150\n",
            "7/7 [==============================] - 72s 10s/step - loss: 0.0051 - accuracy: 0.9988 - val_loss: 12.0730 - val_accuracy: 0.1553\n",
            "Epoch 59/150\n",
            "7/7 [==============================] - 72s 10s/step - loss: 0.0053 - accuracy: 1.0000 - val_loss: 10.4186 - val_accuracy: 0.1408\n",
            "Epoch 60/150\n",
            "7/7 [==============================] - 71s 10s/step - loss: 0.0026 - accuracy: 1.0000 - val_loss: 10.1950 - val_accuracy: 0.0922\n",
            "Epoch 61/150\n",
            "3/7 [===========>..................] - ETA: 43s - loss: 0.0040 - accuracy: 1.0000"
          ]
        }
      ]
    },
    {
      "cell_type": "code",
      "source": [
        "scor = model.evaluate( x_test,  y_test, verbose=0)\n",
        "\n",
        "print('test los {:.4f}'.format(scor[0]))\n",
        "print('test acc {:.4f}'.format(scor[1]))"
      ],
      "metadata": {
        "id": "UjqPuBnublgJ"
      },
      "execution_count": null,
      "outputs": []
    },
    {
      "cell_type": "code",
      "source": [
        "import numpy as np\n",
        "import pandas as pd\n",
        "import matplotlib.pyplot as plt\n",
        "\n",
        "# list all data in history\n",
        "print(history.history.keys())\n",
        "# summarize history for accuracy\n",
        "plt.plot(history.history['accuracy'])\n",
        "plt.plot(history.history['val_accuracy'])\n",
        "plt.title('model accuracy')\n",
        "plt.ylabel('accuracy')\n",
        "plt.xlabel('epoch')\n",
        "plt.legend(['train', 'test'], loc='upper left')\n",
        "plt.show()\n",
        "# summarize history for loss\n",
        "plt.plot(history.history['loss'])\n",
        "plt.plot(history.history['val_loss'])\n",
        "plt.title('model loss')\n",
        "plt.ylabel('loss')\n",
        "plt.xlabel('epoch')\n",
        "plt.legend(['train', 'test'], loc='upper left')\n",
        "plt.show()"
      ],
      "metadata": {
        "id": "IPvmc4x8dSrb"
      },
      "execution_count": null,
      "outputs": []
    }
  ]
}